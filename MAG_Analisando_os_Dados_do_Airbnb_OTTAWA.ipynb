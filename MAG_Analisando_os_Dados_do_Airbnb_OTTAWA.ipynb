{
  "nbformat": 4,
  "nbformat_minor": 0,
  "metadata": {
    "colab": {
      "name": "MAG - Analisando os Dados do Airbnb_OTTAWA.ipynb",
      "provenance": [],
      "collapsed_sections": [],
      "include_colab_link": true
    },
    "kernelspec": {
      "name": "python3",
      "display_name": "Python 3"
    }
  },
  "cells": [
    {
      "cell_type": "markdown",
      "metadata": {
        "id": "view-in-github",
        "colab_type": "text"
      },
      "source": [
        "<a href=\"https://colab.research.google.com/github/michelgoncalves/projects/blob/master/MAG_Analisando_os_Dados_do_Airbnb_OTTAWA.ipynb\" target=\"_parent\"><img src=\"https://colab.research.google.com/assets/colab-badge.svg\" alt=\"Open In Colab\"/></a>"
      ]
    },
    {
      "cell_type": "markdown",
      "metadata": {
        "id": "kLI0gJtzDGuQ",
        "colab_type": "text"
      },
      "source": [
        "# Análise dos Dados do Airbnb - Ottawa\n",
        "*por **Michel Antônio Gonçalves** - https://linkedin.com/in/michel-antonio-goncalves*\n",
        "\n",
        "---\n",
        "---\n",
        "\n",
        "\n",
        "O [Airbnb](https://www.airbnb.com.br/) já é considerado como sendo a **maior empresa hoteleira da atualidade**. Ah, o detalhe é que ele **não possui nenhum hotel**!\n",
        "\n",
        "<img alt=\"Analisando Airbnb\" width=\"20%\" src=\"https://www.area360.com.au/wp-content/uploads/2017/09/airbnb-logo.jpg\">\n",
        "\n",
        "Conectando pessoas que querem viajar (e se hospedar) com anfitriões que querem alugar seus imóveis de maneira prática, o Airbnb fornece uma plataforma inovadora para tornar essa hospedagem alternativa.\n",
        "\n",
        "No final de 2018, a Startup fundada 10 anos atrás, já havia **hospedado mais de 300 milhões** de pessoas ao redor de todo o mundo, desafiando as redes hoteleiras tradicionais.\n",
        "\n",
        "Uma das iniciativas do Airbnb é disponibilizar dados do site, para algumas das principais cidades do mundo. Por meio do portal [Inside Airbnb](http://insideairbnb.com/get-the-data.html), é possível baixar uma grande quantidade de dados para desenvolver projetos e soluções de *Data Science*.\n",
        "\n",
        "\n",
        "<img src=\"https://gd-canada.sfo2.cdn.digitaloceanspaces.com/2016/06/Ottawa2-1.jpg\" width=\"640px\">\n",
        "\n",
        "\n",
        "Neste *notebook*, iremos analisar os dados referentes à cidade de **Ottawa - capital do Canadá, localizada na província de Ontário**, e ver quais *insights* podem ser extraídos a partir de dados brutos.\n",
        "\n",
        "---\n",
        "---\n"
      ]
    },
    {
      "cell_type": "markdown",
      "metadata": {
        "id": "0zxQHhIUDF_2",
        "colab_type": "text"
      },
      "source": [
        "## Obtenção dos Dados\n",
        "\n",
        "Todos os dados usados aqui foram obtidos a partir do site [Inside Airbnb](http://insideairbnb.com/get-the-data.html).\n",
        "\n",
        "Para esta análise exploratória inicial, será baixado apenas o seguinte arquivo:\n",
        "\n",
        "* `listings.csv`- *Summary information and metrics for listings in Ottawa (good for visualisations).*\n",
        "\n",
        "O referido arquivo, que consiste em um arquivo csv contendo 3201 entradas e 16 colunas, será importado para uma estrutura DataFrame (df) e será manipulado e analisado por meio da biblioteca *pandas*.\n"
      ]
    },
    {
      "cell_type": "code",
      "metadata": {
        "id": "Vhp2wMPgJ6zX",
        "colab_type": "code",
        "colab": {}
      },
      "source": [
        "# importar os pacotes necessarios\n",
        "\n",
        "import pandas as pd\n",
        "import matplotlib.pyplot as plt\n",
        "import seaborn as sns\n",
        "\n",
        "%matplotlib inline\n"
      ],
      "execution_count": 0,
      "outputs": []
    },
    {
      "cell_type": "code",
      "metadata": {
        "id": "tUmoAT8DLQ5T",
        "colab_type": "code",
        "colab": {}
      },
      "source": [
        "# importar o arquivo listings.csv para um DataFrame\n",
        "\n",
        "df = pd.read_csv(\"http://data.insideairbnb.com/canada/on/ottawa/2019-09-30/visualisations/listings.csv\")\n"
      ],
      "execution_count": 0,
      "outputs": []
    },
    {
      "cell_type": "code",
      "metadata": {
        "id": "QkYW77DcPmPl",
        "colab_type": "code",
        "outputId": "e223f127-3bb5-4cf1-c900-5d1e376f6769",
        "colab": {
          "base_uri": "https://localhost:8080/",
          "height": 34
        }
      },
      "source": [
        "df.shape"
      ],
      "execution_count": 0,
      "outputs": [
        {
          "output_type": "execute_result",
          "data": {
            "text/plain": [
              "(3201, 16)"
            ]
          },
          "metadata": {
            "tags": []
          },
          "execution_count": 13
        }
      ]
    },
    {
      "cell_type": "markdown",
      "metadata": {
        "id": "qb5By2nIMS6m",
        "colab_type": "text"
      },
      "source": [
        "## Análise dos Dados\n",
        "\n",
        "Para criar uma consciência situacional inicial e permitir um entendimento de como os dados estão estruturados, abaixo encontra-se um glossário com a identificação e significado de cada uma das variáveis (colunas) presentes no dataset utilizado nesta análise.  "
      ]
    },
    {
      "cell_type": "markdown",
      "metadata": {
        "id": "RYgvuebKNg8-",
        "colab_type": "text"
      },
      "source": [
        "**Dicionário das variáveis**\n",
        "\n",
        "* `id` - número de id gerado para identificar o imóvel\n",
        "* `name` - nome da propriedade anunciada\n",
        "* `host_id` - número de id do proprietário (anfitrião) da propriedade\n",
        "* `host_name` - nome do proprietário (anfitrião) \n",
        "* `neighbourhood_group` - coluna sem valor válido \n",
        "* `neighbourhood` - nome do bairro (em Ottawa denominado *ward*)\n",
        "* `latitude` - coordenada da latitude da propriedade\n",
        "* `longitude` - coordenada da longitude da propriedade\n",
        "* `room_type` - tipo de quarto oferecido \n",
        "* `price` - preço do aluguel do imóvel \n",
        "* `minimum_nights` - quantidade mínima de noites para reserva\n",
        "* `number_of_reviews` - número de reviews sobre a propriedade\n",
        "* `last_review` - data da última review \n",
        "* `reviews_per_month` - quantidade de reviews por mês\n",
        "* `calculated_host_listings_count` - quantidade de imóveis do mesmo anfitrião\n",
        "* `availability_365` - número de dias de disponibilidade dentro de 365 dias\n",
        "\n",
        "Antes de iniciar qualquer análise, vamos verificar a cara do nosso *dataset*, analisando as 5 primeiras entradas."
      ]
    },
    {
      "cell_type": "code",
      "metadata": {
        "id": "2iS_dae7YQtO",
        "colab_type": "code",
        "outputId": "5ba0931a-465b-4cdc-960a-165ffdb63d05",
        "colab": {
          "base_uri": "https://localhost:8080/",
          "height": 326
        }
      },
      "source": [
        "# mostrar as 5 primeiras entradas\n",
        "df.head()"
      ],
      "execution_count": 0,
      "outputs": [
        {
          "output_type": "execute_result",
          "data": {
            "text/html": [
              "<div>\n",
              "<style scoped>\n",
              "    .dataframe tbody tr th:only-of-type {\n",
              "        vertical-align: middle;\n",
              "    }\n",
              "\n",
              "    .dataframe tbody tr th {\n",
              "        vertical-align: top;\n",
              "    }\n",
              "\n",
              "    .dataframe thead th {\n",
              "        text-align: right;\n",
              "    }\n",
              "</style>\n",
              "<table border=\"1\" class=\"dataframe\">\n",
              "  <thead>\n",
              "    <tr style=\"text-align: right;\">\n",
              "      <th></th>\n",
              "      <th>id</th>\n",
              "      <th>name</th>\n",
              "      <th>host_id</th>\n",
              "      <th>host_name</th>\n",
              "      <th>neighbourhood_group</th>\n",
              "      <th>neighbourhood</th>\n",
              "      <th>latitude</th>\n",
              "      <th>longitude</th>\n",
              "      <th>room_type</th>\n",
              "      <th>price</th>\n",
              "      <th>minimum_nights</th>\n",
              "      <th>number_of_reviews</th>\n",
              "      <th>last_review</th>\n",
              "      <th>reviews_per_month</th>\n",
              "      <th>calculated_host_listings_count</th>\n",
              "      <th>availability_365</th>\n",
              "    </tr>\n",
              "  </thead>\n",
              "  <tbody>\n",
              "    <tr>\n",
              "      <th>0</th>\n",
              "      <td>34220</td>\n",
              "      <td>Room available</td>\n",
              "      <td>147438</td>\n",
              "      <td>Mark</td>\n",
              "      <td>NaN</td>\n",
              "      <td>Capital</td>\n",
              "      <td>45.40924</td>\n",
              "      <td>-75.67900</td>\n",
              "      <td>Private room</td>\n",
              "      <td>203</td>\n",
              "      <td>7</td>\n",
              "      <td>0</td>\n",
              "      <td>NaN</td>\n",
              "      <td>NaN</td>\n",
              "      <td>1</td>\n",
              "      <td>365</td>\n",
              "    </tr>\n",
              "    <tr>\n",
              "      <th>1</th>\n",
              "      <td>36642</td>\n",
              "      <td>City Conveniences A Country Setting</td>\n",
              "      <td>157787</td>\n",
              "      <td>Donna</td>\n",
              "      <td>NaN</td>\n",
              "      <td>Kitchissippi</td>\n",
              "      <td>45.40159</td>\n",
              "      <td>-75.74679</td>\n",
              "      <td>Private room</td>\n",
              "      <td>65</td>\n",
              "      <td>2</td>\n",
              "      <td>85</td>\n",
              "      <td>2019-09-14</td>\n",
              "      <td>0.76</td>\n",
              "      <td>1</td>\n",
              "      <td>364</td>\n",
              "    </tr>\n",
              "    <tr>\n",
              "      <th>2</th>\n",
              "      <td>59258</td>\n",
              "      <td>Lower level of my house to rent</td>\n",
              "      <td>284351</td>\n",
              "      <td>Elena</td>\n",
              "      <td>NaN</td>\n",
              "      <td>Bay</td>\n",
              "      <td>45.35900</td>\n",
              "      <td>-75.80314</td>\n",
              "      <td>Entire home/apt</td>\n",
              "      <td>200</td>\n",
              "      <td>3</td>\n",
              "      <td>1</td>\n",
              "      <td>2011-07-04</td>\n",
              "      <td>0.01</td>\n",
              "      <td>1</td>\n",
              "      <td>0</td>\n",
              "    </tr>\n",
              "    <tr>\n",
              "      <th>3</th>\n",
              "      <td>158824</td>\n",
              "      <td>DOWNTOWN/GLEBE HOUSE WITH BACKYARD</td>\n",
              "      <td>87296</td>\n",
              "      <td>Luc</td>\n",
              "      <td>NaN</td>\n",
              "      <td>Capital</td>\n",
              "      <td>45.40248</td>\n",
              "      <td>-75.69941</td>\n",
              "      <td>Entire home/apt</td>\n",
              "      <td>140</td>\n",
              "      <td>3</td>\n",
              "      <td>7</td>\n",
              "      <td>2015-08-30</td>\n",
              "      <td>0.07</td>\n",
              "      <td>1</td>\n",
              "      <td>59</td>\n",
              "    </tr>\n",
              "    <tr>\n",
              "      <th>4</th>\n",
              "      <td>261065</td>\n",
              "      <td>Westboro Village Executive Suite</td>\n",
              "      <td>1369632</td>\n",
              "      <td>Glenn</td>\n",
              "      <td>NaN</td>\n",
              "      <td>Kitchissippi</td>\n",
              "      <td>45.38972</td>\n",
              "      <td>-75.75496</td>\n",
              "      <td>Entire home/apt</td>\n",
              "      <td>150</td>\n",
              "      <td>2</td>\n",
              "      <td>56</td>\n",
              "      <td>2019-08-25</td>\n",
              "      <td>0.59</td>\n",
              "      <td>1</td>\n",
              "      <td>282</td>\n",
              "    </tr>\n",
              "  </tbody>\n",
              "</table>\n",
              "</div>"
            ],
            "text/plain": [
              "       id  ... availability_365\n",
              "0   34220  ...              365\n",
              "1   36642  ...              364\n",
              "2   59258  ...                0\n",
              "3  158824  ...               59\n",
              "4  261065  ...              282\n",
              "\n",
              "[5 rows x 16 columns]"
            ]
          },
          "metadata": {
            "tags": []
          },
          "execution_count": 8
        }
      ]
    },
    {
      "cell_type": "markdown",
      "metadata": {
        "id": "6-B_qtEaYEd-",
        "colab_type": "text"
      },
      "source": [
        "### **Q1. Quantos atributos (variáveis) e quantas entradas o nosso conjunto de dados possui? Quais os tipos das variáveis?**\n",
        "\n",
        "Vamos prosseguir e identificar a quantidade de entradas que nosso conjunto de dados possui e descobrir qual o tipo de dado utilizado em cada coluna.\n",
        "\n",
        "O *dataset* utilizado nesta análise representa a versão resumida do estudo do Airbnb sobre a cidade de Ottawa. Na mesma página do site em que baixamos o arquivo `listings.csv`, está disponível o estudo completo por meio do arquivo denominado `listings.csv.gz`."
      ]
    },
    {
      "cell_type": "code",
      "metadata": {
        "id": "TFRK0tniLV-G",
        "colab_type": "code",
        "outputId": "9b36a55d-2323-44a4-bd02-325987045e91",
        "colab": {
          "base_uri": "https://localhost:8080/",
          "height": 340
        }
      },
      "source": [
        "# identificar o volume de dados do DataFrame\n",
        "\n",
        "print(\"Entradas:\\t {}\".format(df.shape[0]))\n",
        "print(\"Variáveis:\\t {}\".format(df.shape[1]))\n",
        "\n",
        "# verificar as 5 primeiras entradas do dataset\n",
        "display(df.dtypes)\n"
      ],
      "execution_count": 0,
      "outputs": [
        {
          "output_type": "stream",
          "text": [
            "Entradas:\t 3201\n",
            "Variáveis:\t 16\n"
          ],
          "name": "stdout"
        },
        {
          "output_type": "display_data",
          "data": {
            "text/plain": [
              "id                                  int64\n",
              "name                               object\n",
              "host_id                             int64\n",
              "host_name                          object\n",
              "neighbourhood_group               float64\n",
              "neighbourhood                      object\n",
              "latitude                          float64\n",
              "longitude                         float64\n",
              "room_type                          object\n",
              "price                               int64\n",
              "minimum_nights                      int64\n",
              "number_of_reviews                   int64\n",
              "last_review                        object\n",
              "reviews_per_month                 float64\n",
              "calculated_host_listings_count      int64\n",
              "availability_365                    int64\n",
              "dtype: object"
            ]
          },
          "metadata": {
            "tags": []
          }
        }
      ]
    },
    {
      "cell_type": "markdown",
      "metadata": {
        "id": "aNzHvg3nILWu",
        "colab_type": "text"
      },
      "source": [
        "---"
      ]
    },
    {
      "cell_type": "markdown",
      "metadata": {
        "id": "yz1urSUGW9iE",
        "colab_type": "text"
      },
      "source": [
        "### **Q2. Qual a porcentagem de valores ausentes no *dataset*?**\n",
        "\n",
        "A qualidade de um *dataset* está diretamente relacionada à quantidade de valores ausentes. É importante entender logo no início se esses valores nulos são significativos comparados ao total de entradas."
      ]
    },
    {
      "cell_type": "code",
      "metadata": {
        "id": "plk2FjbCXOqP",
        "colab_type": "code",
        "outputId": "af70a29e-06a1-4f8c-e6a8-08f0d56fd92d",
        "colab": {
          "base_uri": "https://localhost:8080/",
          "height": 306
        }
      },
      "source": [
        "# ordenar em ordem decrescente as variáveis por seus valores ausentes\n",
        "(df.isnull().sum() / df.shape[0]).sort_values(ascending=False)"
      ],
      "execution_count": 0,
      "outputs": [
        {
          "output_type": "execute_result",
          "data": {
            "text/plain": [
              "neighbourhood_group               1.00000\n",
              "reviews_per_month                 0.13527\n",
              "last_review                       0.13527\n",
              "availability_365                  0.00000\n",
              "calculated_host_listings_count    0.00000\n",
              "number_of_reviews                 0.00000\n",
              "minimum_nights                    0.00000\n",
              "price                             0.00000\n",
              "room_type                         0.00000\n",
              "longitude                         0.00000\n",
              "latitude                          0.00000\n",
              "neighbourhood                     0.00000\n",
              "host_name                         0.00000\n",
              "host_id                           0.00000\n",
              "name                              0.00000\n",
              "id                                0.00000\n",
              "dtype: float64"
            ]
          },
          "metadata": {
            "tags": []
          },
          "execution_count": 17
        }
      ]
    },
    {
      "cell_type": "markdown",
      "metadata": {
        "id": "_g4BmE22E1kv",
        "colab_type": "text"
      },
      "source": [
        "*Observações:*\n",
        "\n",
        "* É possível ver que a coluna `neighbourhood_group` possui 100% dos seus valores faltantes. \n",
        "* 13,5% das entradas nas variáveis `reviews_per_month` e `last_review` possuem valores nulos.\n",
        "\n",
        "\n"
      ]
    },
    {
      "cell_type": "markdown",
      "metadata": {
        "id": "X30A_FrYIP98",
        "colab_type": "text"
      },
      "source": [
        "---\n"
      ]
    },
    {
      "cell_type": "markdown",
      "metadata": {
        "id": "iHXvvHIxaoNc",
        "colab_type": "text"
      },
      "source": [
        "### **Q3. Qual o tipo de distribuição das variáveis?** \n",
        "\n",
        "Para melhor observação sobre a distribuição dos dados, foram plotados histogramas para cada uma das variáveis numéricas do dataset."
      ]
    },
    {
      "cell_type": "code",
      "metadata": {
        "id": "q2wWSfeRbmBo",
        "colab_type": "code",
        "outputId": "45711bfa-50b3-45c7-e424-135ac39176d8",
        "colab": {
          "base_uri": "https://localhost:8080/",
          "height": 607
        }
      },
      "source": [
        "# plotar o histograma das variáveis numéricas\n",
        "df.hist(bins=15, figsize=(15,10));"
      ],
      "execution_count": 0,
      "outputs": [
        {
          "output_type": "display_data",
          "data": {
            "image/png": "[encoded data removed]",
            "text/plain": [
              "<Figure size 1080x720 with 12 Axes>"
            ]
          },
          "metadata": {
            "tags": []
          }
        }
      ]
    },
    {
      "cell_type": "markdown",
      "metadata": {
        "id": "friTyYgGIUmq",
        "colab_type": "text"
      },
      "source": [
        "---"
      ]
    },
    {
      "cell_type": "markdown",
      "metadata": {
        "id": "aNXf7QMBHvvj",
        "colab_type": "text"
      },
      "source": [
        "### **Q4. Existem *outliers* presentes?**"
      ]
    },
    {
      "cell_type": "markdown",
      "metadata": {
        "id": "fxZu1kwHKATz",
        "colab_type": "text"
      },
      "source": [
        "#### **Para detecção de *outliers*, alguns passos serão seguindos:**\n",
        "\n",
        "1) Levantamento do resumo estatístico das variáveis numéricas\n"
      ]
    },
    {
      "cell_type": "code",
      "metadata": {
        "id": "2TGZhNKSJ_H3",
        "colab_type": "code",
        "outputId": "53b62998-5907-43ae-f286-e24006041214",
        "colab": {
          "base_uri": "https://localhost:8080/",
          "height": 297
        }
      },
      "source": [
        "df[['price', 'minimum_nights', 'number_of_reviews', 'reviews_per_month', 'calculated_host_listings_count', 'availability_365']].describe()"
      ],
      "execution_count": 0,
      "outputs": [
        {
          "output_type": "execute_result",
          "data": {
            "text/html": [
              "<div>\n",
              "<style scoped>\n",
              "    .dataframe tbody tr th:only-of-type {\n",
              "        vertical-align: middle;\n",
              "    }\n",
              "\n",
              "    .dataframe tbody tr th {\n",
              "        vertical-align: top;\n",
              "    }\n",
              "\n",
              "    .dataframe thead th {\n",
              "        text-align: right;\n",
              "    }\n",
              "</style>\n",
              "<table border=\"1\" class=\"dataframe\">\n",
              "  <thead>\n",
              "    <tr style=\"text-align: right;\">\n",
              "      <th></th>\n",
              "      <th>price</th>\n",
              "      <th>minimum_nights</th>\n",
              "      <th>number_of_reviews</th>\n",
              "      <th>reviews_per_month</th>\n",
              "      <th>calculated_host_listings_count</th>\n",
              "      <th>availability_365</th>\n",
              "    </tr>\n",
              "  </thead>\n",
              "  <tbody>\n",
              "    <tr>\n",
              "      <th>count</th>\n",
              "      <td>3201.000000</td>\n",
              "      <td>3201.000000</td>\n",
              "      <td>3201.000000</td>\n",
              "      <td>2768.000000</td>\n",
              "      <td>3201.000000</td>\n",
              "      <td>3201.000000</td>\n",
              "    </tr>\n",
              "    <tr>\n",
              "      <th>mean</th>\n",
              "      <td>112.419869</td>\n",
              "      <td>6.165573</td>\n",
              "      <td>37.302718</td>\n",
              "      <td>2.485289</td>\n",
              "      <td>6.963137</td>\n",
              "      <td>156.698844</td>\n",
              "    </tr>\n",
              "    <tr>\n",
              "      <th>std</th>\n",
              "      <td>119.519214</td>\n",
              "      <td>24.624595</td>\n",
              "      <td>59.035460</td>\n",
              "      <td>2.428315</td>\n",
              "      <td>16.504182</td>\n",
              "      <td>126.397053</td>\n",
              "    </tr>\n",
              "    <tr>\n",
              "      <th>min</th>\n",
              "      <td>0.000000</td>\n",
              "      <td>1.000000</td>\n",
              "      <td>0.000000</td>\n",
              "      <td>0.010000</td>\n",
              "      <td>1.000000</td>\n",
              "      <td>0.000000</td>\n",
              "    </tr>\n",
              "    <tr>\n",
              "      <th>25%</th>\n",
              "      <td>56.000000</td>\n",
              "      <td>1.000000</td>\n",
              "      <td>2.000000</td>\n",
              "      <td>0.630000</td>\n",
              "      <td>1.000000</td>\n",
              "      <td>51.000000</td>\n",
              "    </tr>\n",
              "    <tr>\n",
              "      <th>50%</th>\n",
              "      <td>86.000000</td>\n",
              "      <td>2.000000</td>\n",
              "      <td>13.000000</td>\n",
              "      <td>1.625000</td>\n",
              "      <td>2.000000</td>\n",
              "      <td>132.000000</td>\n",
              "    </tr>\n",
              "    <tr>\n",
              "      <th>75%</th>\n",
              "      <td>128.000000</td>\n",
              "      <td>2.000000</td>\n",
              "      <td>47.000000</td>\n",
              "      <td>3.700000</td>\n",
              "      <td>4.000000</td>\n",
              "      <td>282.000000</td>\n",
              "    </tr>\n",
              "    <tr>\n",
              "      <th>max</th>\n",
              "      <td>2000.000000</td>\n",
              "      <td>365.000000</td>\n",
              "      <td>506.000000</td>\n",
              "      <td>15.080000</td>\n",
              "      <td>87.000000</td>\n",
              "      <td>365.000000</td>\n",
              "    </tr>\n",
              "  </tbody>\n",
              "</table>\n",
              "</div>"
            ],
            "text/plain": [
              "             price  ...  availability_365\n",
              "count  3201.000000  ...       3201.000000\n",
              "mean    112.419869  ...        156.698844\n",
              "std     119.519214  ...        126.397053\n",
              "min       0.000000  ...          0.000000\n",
              "25%      56.000000  ...         51.000000\n",
              "50%      86.000000  ...        132.000000\n",
              "75%     128.000000  ...        282.000000\n",
              "max    2000.000000  ...        365.000000\n",
              "\n",
              "[8 rows x 6 columns]"
            ]
          },
          "metadata": {
            "tags": []
          },
          "execution_count": 21
        }
      ]
    },
    {
      "cell_type": "markdown",
      "metadata": {
        "id": "AeCoympbMOcg",
        "colab_type": "text"
      },
      "source": [
        "*Observações:*\n",
        "\n",
        "* Na variável `price` 75% das entradas possuem o preço abaixo de 128, contudo, o preço máximo é 2000.\n",
        "* Na variável de quantidade mínima de noites (`minimum_nights`), 75% das entradas apresentam o valor de 2 dias, porém, o valor máximo é de 365 dias no ano. Tal discrepância afeta e distorce a representação gráfica do dataset.\n",
        "*  Em `number_of_reviews`, 75% dos valores estão abaixo de 47, enquanto o valor máximo é 506.\n",
        "\n",
        "\n"
      ]
    },
    {
      "cell_type": "markdown",
      "metadata": {
        "id": "hL2H2Z11Oe8M",
        "colab_type": "text"
      },
      "source": [
        "2) Aprofundamento da análise via boxplots sobre as variáves `price`, `minimum_nights` e `number_of_reviews`"
      ]
    },
    {
      "cell_type": "markdown",
      "metadata": {
        "id": "pC8gxx4IPbjL",
        "colab_type": "text"
      },
      "source": [
        "* Boxplot para `price`"
      ]
    },
    {
      "cell_type": "code",
      "metadata": {
        "id": "FPDsJDKAPuzh",
        "colab_type": "code",
        "outputId": "fa05bd3d-85cb-4e81-af90-1b57524fa05e",
        "colab": {
          "base_uri": "https://localhost:8080/",
          "height": 279
        }
      },
      "source": [
        "df.price.plot(kind='box', vert=False, figsize=(15, 3),)\n",
        "plt.show()\n",
        "\n",
        "# ver a quantidade e percentual de entradas acima de 500 para price\n",
        "print(\"\\nprice: valores acima de 500\")\n",
        "print(\"{} entradas\".format(len(df[df.price > 500])))\n",
        "print(\"{:.4f}%\".format((len(df[df.price > 500]) / df.shape[0])*100))"
      ],
      "execution_count": 0,
      "outputs": [
        {
          "output_type": "display_data",
          "data": {
            "image/png": "[encoded data removed]",
            "text/plain": [
              "<Figure size 1080x216 with 1 Axes>"
            ]
          },
          "metadata": {
            "tags": []
          }
        },
        {
          "output_type": "stream",
          "text": [
            "\n",
            "price: valores acima de 500\n",
            "43 entradas\n",
            "1.3433%\n"
          ],
          "name": "stdout"
        }
      ]
    },
    {
      "cell_type": "markdown",
      "metadata": {
        "id": "tFcLWx_UPw78",
        "colab_type": "text"
      },
      "source": [
        "* Boxplot para `minimum_nights`"
      ]
    },
    {
      "cell_type": "code",
      "metadata": {
        "id": "6Fw3oEFnHPqc",
        "colab_type": "code",
        "outputId": "cc6e3ff4-f034-4021-d399-8495efdbe411",
        "colab": {
          "base_uri": "https://localhost:8080/",
          "height": 262
        }
      },
      "source": [
        "df.minimum_nights.plot(kind='box', vert=False, figsize=(15, 3))\n",
        "plt.show()\n",
        "\n",
        "# ver quantidade de valores acima de 100 dias para minimum_nights\n",
        "print(\"minimum_nights: valores acima de 100:\")\n",
        "print(\"{} entradas\".format(len(df[df.minimum_nights > 100])))\n",
        "print(\"{:.4f}%\".format((len(df[df.minimum_nights > 100]) / df.shape[0])*100))"
      ],
      "execution_count": 0,
      "outputs": [
        {
          "output_type": "display_data",
          "data": {
            "image/png": "[encoded data removed]",
            "text/plain": [
              "<Figure size 1080x216 with 1 Axes>"
            ]
          },
          "metadata": {
            "tags": []
          }
        },
        {
          "output_type": "stream",
          "text": [
            "minimum_nights: valores acima de 100:\n",
            "34 entradas\n",
            "1.0622%\n"
          ],
          "name": "stdout"
        }
      ]
    },
    {
      "cell_type": "markdown",
      "metadata": {
        "id": "uHGmL3-vxL2a",
        "colab_type": "text"
      },
      "source": [
        "* Boxplot para `number_of_reviews`"
      ]
    },
    {
      "cell_type": "code",
      "metadata": {
        "id": "MGIukyv2xMVw",
        "colab_type": "code",
        "outputId": "2ed9724f-4173-4642-ad41-d6d7682c3008",
        "colab": {
          "base_uri": "https://localhost:8080/",
          "height": 262
        }
      },
      "source": [
        "df.number_of_reviews.plot(kind='box', vert=False, figsize=(15, 3))\n",
        "plt.show()\n",
        "\n",
        "print(\"number_of_review: valores acima de 50:\")\n",
        "print(\"{} entradas\".format(len(df[df.minimum_nights > 50])))\n",
        "print(\"{:.4f}%\".format((len(df[df.minimum_nights > 50]) / df.shape[0])*100))"
      ],
      "execution_count": 0,
      "outputs": [
        {
          "output_type": "display_data",
          "data": {
            "image/png": "[encoded data removed]",
            "text/plain": [
              "<Figure size 1080x216 with 1 Axes>"
            ]
          },
          "metadata": {
            "tags": []
          }
        },
        {
          "output_type": "stream",
          "text": [
            "number_of_review: valores acima de 50:\n",
            "73 entradas\n",
            "2.2805%\n"
          ],
          "name": "stdout"
        }
      ]
    },
    {
      "cell_type": "markdown",
      "metadata": {
        "id": "ZkSvH_lNXwzl",
        "colab_type": "text"
      },
      "source": [
        "#### **Passos para atualização do dataframe sem os *outliers*:**\n",
        "\n",
        "1) Remoção dos *outliers* nas variáveis `price`, `minimum_nights` e `number_of_reviews`"
      ]
    },
    {
      "cell_type": "code",
      "metadata": {
        "id": "3c6aeusVZPjj",
        "colab_type": "code",
        "colab": {}
      },
      "source": [
        "df_clean = df.copy()\n",
        "df_clean.drop(df_clean[df_clean.price > 500].index, axis=0, inplace=True)\n",
        "df_clean.drop(df_clean[df_clean.minimum_nights > 100].index, axis=0, inplace=True)\n",
        "df_clean.drop(df_clean[df_clean.number_of_reviews > 50].index, axis=0, inplace=True)"
      ],
      "execution_count": 0,
      "outputs": []
    },
    {
      "cell_type": "markdown",
      "metadata": {
        "id": "s1hk7mJ_aYRm",
        "colab_type": "text"
      },
      "source": [
        "2) Remoção da variável `neighbourhood_group`, pois a mesma não possui valores"
      ]
    },
    {
      "cell_type": "code",
      "metadata": {
        "id": "3I0qMjuKaZh-",
        "colab_type": "code",
        "colab": {}
      },
      "source": [
        "df_clean.drop('neighbourhood_group', axis=1, inplace=True)"
      ],
      "execution_count": 0,
      "outputs": []
    },
    {
      "cell_type": "markdown",
      "metadata": {
        "id": "UVzhfH7n1eHd",
        "colab_type": "text"
      },
      "source": [
        "3) Plotagem dos histogramas das variáveis numéricas sem os outliers"
      ]
    },
    {
      "cell_type": "code",
      "metadata": {
        "id": "T-agCHkdabd1",
        "colab_type": "code",
        "outputId": "84803d20-2304-46a3-8c72-f2dab50f4580",
        "colab": {
          "base_uri": "https://localhost:8080/",
          "height": 607
        }
      },
      "source": [
        "df_clean.hist(bins=15, figsize=(15,10));"
      ],
      "execution_count": 0,
      "outputs": [
        {
          "output_type": "display_data",
          "data": {
            "image/png": "[encoded data removed]",
            "text/plain": [
              "<Figure size 1080x720 with 12 Axes>"
            ]
          },
          "metadata": {
            "tags": []
          }
        }
      ]
    },
    {
      "cell_type": "markdown",
      "metadata": {
        "id": "93peLu6h2dy4",
        "colab_type": "text"
      },
      "source": [
        "4) Atualização da descrição das variáveis numéricas após limpeza dos *outliers*\n",
        "\n",
        "* Resumo estatístico **antes** da limpeza dos *outliers*:"
      ]
    },
    {
      "cell_type": "code",
      "metadata": {
        "id": "rw5TjQ8U2vGA",
        "colab_type": "code",
        "outputId": "f4460c33-ea45-40e6-df1c-edd26af49668",
        "colab": {
          "base_uri": "https://localhost:8080/",
          "height": 297
        }
      },
      "source": [
        "df[['price', 'minimum_nights', 'number_of_reviews', 'reviews_per_month', 'calculated_host_listings_count', 'availability_365']].describe()"
      ],
      "execution_count": 0,
      "outputs": [
        {
          "output_type": "execute_result",
          "data": {
            "text/html": [
              "<div>\n",
              "<style scoped>\n",
              "    .dataframe tbody tr th:only-of-type {\n",
              "        vertical-align: middle;\n",
              "    }\n",
              "\n",
              "    .dataframe tbody tr th {\n",
              "        vertical-align: top;\n",
              "    }\n",
              "\n",
              "    .dataframe thead th {\n",
              "        text-align: right;\n",
              "    }\n",
              "</style>\n",
              "<table border=\"1\" class=\"dataframe\">\n",
              "  <thead>\n",
              "    <tr style=\"text-align: right;\">\n",
              "      <th></th>\n",
              "      <th>price</th>\n",
              "      <th>minimum_nights</th>\n",
              "      <th>number_of_reviews</th>\n",
              "      <th>reviews_per_month</th>\n",
              "      <th>calculated_host_listings_count</th>\n",
              "      <th>availability_365</th>\n",
              "    </tr>\n",
              "  </thead>\n",
              "  <tbody>\n",
              "    <tr>\n",
              "      <th>count</th>\n",
              "      <td>3201.000000</td>\n",
              "      <td>3201.000000</td>\n",
              "      <td>3201.000000</td>\n",
              "      <td>2768.000000</td>\n",
              "      <td>3201.000000</td>\n",
              "      <td>3201.000000</td>\n",
              "    </tr>\n",
              "    <tr>\n",
              "      <th>mean</th>\n",
              "      <td>112.419869</td>\n",
              "      <td>6.165573</td>\n",
              "      <td>37.302718</td>\n",
              "      <td>2.485289</td>\n",
              "      <td>6.963137</td>\n",
              "      <td>156.698844</td>\n",
              "    </tr>\n",
              "    <tr>\n",
              "      <th>std</th>\n",
              "      <td>119.519214</td>\n",
              "      <td>24.624595</td>\n",
              "      <td>59.035460</td>\n",
              "      <td>2.428315</td>\n",
              "      <td>16.504182</td>\n",
              "      <td>126.397053</td>\n",
              "    </tr>\n",
              "    <tr>\n",
              "      <th>min</th>\n",
              "      <td>0.000000</td>\n",
              "      <td>1.000000</td>\n",
              "      <td>0.000000</td>\n",
              "      <td>0.010000</td>\n",
              "      <td>1.000000</td>\n",
              "      <td>0.000000</td>\n",
              "    </tr>\n",
              "    <tr>\n",
              "      <th>25%</th>\n",
              "      <td>56.000000</td>\n",
              "      <td>1.000000</td>\n",
              "      <td>2.000000</td>\n",
              "      <td>0.630000</td>\n",
              "      <td>1.000000</td>\n",
              "      <td>51.000000</td>\n",
              "    </tr>\n",
              "    <tr>\n",
              "      <th>50%</th>\n",
              "      <td>86.000000</td>\n",
              "      <td>2.000000</td>\n",
              "      <td>13.000000</td>\n",
              "      <td>1.625000</td>\n",
              "      <td>2.000000</td>\n",
              "      <td>132.000000</td>\n",
              "    </tr>\n",
              "    <tr>\n",
              "      <th>75%</th>\n",
              "      <td>128.000000</td>\n",
              "      <td>2.000000</td>\n",
              "      <td>47.000000</td>\n",
              "      <td>3.700000</td>\n",
              "      <td>4.000000</td>\n",
              "      <td>282.000000</td>\n",
              "    </tr>\n",
              "    <tr>\n",
              "      <th>max</th>\n",
              "      <td>2000.000000</td>\n",
              "      <td>365.000000</td>\n",
              "      <td>506.000000</td>\n",
              "      <td>15.080000</td>\n",
              "      <td>87.000000</td>\n",
              "      <td>365.000000</td>\n",
              "    </tr>\n",
              "  </tbody>\n",
              "</table>\n",
              "</div>"
            ],
            "text/plain": [
              "             price  ...  availability_365\n",
              "count  3201.000000  ...       3201.000000\n",
              "mean    112.419869  ...        156.698844\n",
              "std     119.519214  ...        126.397053\n",
              "min       0.000000  ...          0.000000\n",
              "25%      56.000000  ...         51.000000\n",
              "50%      86.000000  ...        132.000000\n",
              "75%     128.000000  ...        282.000000\n",
              "max    2000.000000  ...        365.000000\n",
              "\n",
              "[8 rows x 6 columns]"
            ]
          },
          "metadata": {
            "tags": []
          },
          "execution_count": 47
        }
      ]
    },
    {
      "cell_type": "markdown",
      "metadata": {
        "id": "rJknQnEx3H8f",
        "colab_type": "text"
      },
      "source": [
        "* Resumo estatístico **após** a limpeza dos *outliers*:"
      ]
    },
    {
      "cell_type": "code",
      "metadata": {
        "id": "6jIqUYrV2ehh",
        "colab_type": "code",
        "outputId": "d66cbe3a-a530-4c35-c3bb-6c0482f55057",
        "colab": {
          "base_uri": "https://localhost:8080/",
          "height": 297
        }
      },
      "source": [
        "df_clean[['price', 'minimum_nights', 'number_of_reviews', 'reviews_per_month', 'calculated_host_listings_count', 'availability_365']].describe()"
      ],
      "execution_count": 0,
      "outputs": [
        {
          "output_type": "execute_result",
          "data": {
            "text/html": [
              "<div>\n",
              "<style scoped>\n",
              "    .dataframe tbody tr th:only-of-type {\n",
              "        vertical-align: middle;\n",
              "    }\n",
              "\n",
              "    .dataframe tbody tr th {\n",
              "        vertical-align: top;\n",
              "    }\n",
              "\n",
              "    .dataframe thead th {\n",
              "        text-align: right;\n",
              "    }\n",
              "</style>\n",
              "<table border=\"1\" class=\"dataframe\">\n",
              "  <thead>\n",
              "    <tr style=\"text-align: right;\">\n",
              "      <th></th>\n",
              "      <th>price</th>\n",
              "      <th>minimum_nights</th>\n",
              "      <th>number_of_reviews</th>\n",
              "      <th>reviews_per_month</th>\n",
              "      <th>calculated_host_listings_count</th>\n",
              "      <th>availability_365</th>\n",
              "    </tr>\n",
              "  </thead>\n",
              "  <tbody>\n",
              "    <tr>\n",
              "      <th>count</th>\n",
              "      <td>2383.000000</td>\n",
              "      <td>2383.000000</td>\n",
              "      <td>2383.000000</td>\n",
              "      <td>1984.000000</td>\n",
              "      <td>2383.000000</td>\n",
              "      <td>2383.000000</td>\n",
              "    </tr>\n",
              "    <tr>\n",
              "      <th>mean</th>\n",
              "      <td>103.942509</td>\n",
              "      <td>4.636593</td>\n",
              "      <td>12.028116</td>\n",
              "      <td>1.680136</td>\n",
              "      <td>7.135963</td>\n",
              "      <td>153.265632</td>\n",
              "    </tr>\n",
              "    <tr>\n",
              "      <th>std</th>\n",
              "      <td>73.671187</td>\n",
              "      <td>11.427854</td>\n",
              "      <td>13.428186</td>\n",
              "      <td>1.771710</td>\n",
              "      <td>16.479944</td>\n",
              "      <td>126.840477</td>\n",
              "    </tr>\n",
              "    <tr>\n",
              "      <th>min</th>\n",
              "      <td>0.000000</td>\n",
              "      <td>1.000000</td>\n",
              "      <td>0.000000</td>\n",
              "      <td>0.010000</td>\n",
              "      <td>1.000000</td>\n",
              "      <td>0.000000</td>\n",
              "    </tr>\n",
              "    <tr>\n",
              "      <th>25%</th>\n",
              "      <td>50.000000</td>\n",
              "      <td>1.000000</td>\n",
              "      <td>1.000000</td>\n",
              "      <td>0.460000</td>\n",
              "      <td>1.000000</td>\n",
              "      <td>46.500000</td>\n",
              "    </tr>\n",
              "    <tr>\n",
              "      <th>50%</th>\n",
              "      <td>85.000000</td>\n",
              "      <td>2.000000</td>\n",
              "      <td>7.000000</td>\n",
              "      <td>1.000000</td>\n",
              "      <td>2.000000</td>\n",
              "      <td>124.000000</td>\n",
              "    </tr>\n",
              "    <tr>\n",
              "      <th>75%</th>\n",
              "      <td>130.000000</td>\n",
              "      <td>3.000000</td>\n",
              "      <td>19.000000</td>\n",
              "      <td>2.222500</td>\n",
              "      <td>4.000000</td>\n",
              "      <td>276.000000</td>\n",
              "    </tr>\n",
              "    <tr>\n",
              "      <th>max</th>\n",
              "      <td>497.000000</td>\n",
              "      <td>91.000000</td>\n",
              "      <td>50.000000</td>\n",
              "      <td>11.330000</td>\n",
              "      <td>87.000000</td>\n",
              "      <td>365.000000</td>\n",
              "    </tr>\n",
              "  </tbody>\n",
              "</table>\n",
              "</div>"
            ],
            "text/plain": [
              "             price  ...  availability_365\n",
              "count  2383.000000  ...       2383.000000\n",
              "mean    103.942509  ...        153.265632\n",
              "std      73.671187  ...        126.840477\n",
              "min       0.000000  ...          0.000000\n",
              "25%      50.000000  ...         46.500000\n",
              "50%      85.000000  ...        124.000000\n",
              "75%     130.000000  ...        276.000000\n",
              "max     497.000000  ...        365.000000\n",
              "\n",
              "[8 rows x 6 columns]"
            ]
          },
          "metadata": {
            "tags": []
          },
          "execution_count": 46
        }
      ]
    },
    {
      "cell_type": "markdown",
      "metadata": {
        "id": "dubc36GOLwXU",
        "colab_type": "text"
      },
      "source": [
        "---"
      ]
    },
    {
      "cell_type": "markdown",
      "metadata": {
        "id": "7x4aw1j5wNmn",
        "colab_type": "text"
      },
      "source": [
        "### **Q5. Qual a média dos preços de aluguel?**\n",
        "\n",
        "Já utilizando o dataset limpo (df_clean), calcularemos a seguir o valor exato da média do preço de aluguel das hospedagens do AirBnb disponíveis na cidade de Ottawa:"
      ]
    },
    {
      "cell_type": "code",
      "metadata": {
        "id": "ff-8gUahLk-C",
        "colab_type": "code",
        "outputId": "2818789a-cc2a-4d26-9989-75e59eeab9f8",
        "colab": {
          "base_uri": "https://localhost:8080/",
          "height": 34
        }
      },
      "source": [
        "# ver a média da coluna `price``\n",
        "df_clean.price.mean()\n",
        "\n",
        "# ou\n",
        "\n",
        "df_clean['price'].mean()\n"
      ],
      "execution_count": 0,
      "outputs": [
        {
          "output_type": "execute_result",
          "data": {
            "text/plain": [
              "103.94250944187998"
            ]
          },
          "metadata": {
            "tags": []
          },
          "execution_count": 45
        }
      ]
    },
    {
      "cell_type": "markdown",
      "metadata": {
        "id": "YaDKivtVuzUd",
        "colab_type": "text"
      },
      "source": [
        "* Para melhorar a visualização, o valor será arredondado para duas casas decimais "
      ]
    },
    {
      "cell_type": "code",
      "metadata": {
        "id": "w6dd0V1htHa6",
        "colab_type": "code",
        "outputId": "d38ef21b-9c4b-4247-cb7d-763fd69c0337",
        "colab": {
          "base_uri": "https://localhost:8080/",
          "height": 34
        }
      },
      "source": [
        "round(df_clean['price'].mean(), 2)"
      ],
      "execution_count": 0,
      "outputs": [
        {
          "output_type": "execute_result",
          "data": {
            "text/plain": [
              "103.94"
            ]
          },
          "metadata": {
            "tags": []
          },
          "execution_count": 14
        }
      ]
    },
    {
      "cell_type": "markdown",
      "metadata": {
        "id": "f3JpjOPBLftG",
        "colab_type": "text"
      },
      "source": [
        "*Resumo da análise:*\n",
        "\n",
        "Média de aluguel de hospedagens do AirBnb em Ottawa: **103.94 CAD**"
      ]
    },
    {
      "cell_type": "markdown",
      "metadata": {
        "id": "QxKTw0NkMugI",
        "colab_type": "text"
      },
      "source": [
        "---"
      ]
    },
    {
      "cell_type": "markdown",
      "metadata": {
        "id": "IXn2oIo5qx-w",
        "colab_type": "text"
      },
      "source": [
        "### **Q6. Qual a correlação existente entre as variáveis**\n",
        "\n",
        "Correlação significa que existe uma relação entre duas coisas. No nosso contexto, estamos buscando relação ou semelhança entre duas variáveis.\n",
        "\n",
        "Essa relação pode ser medida, e é função do coeficiente de correlação estabelecer qual a intensidade dela. \n",
        "\n",
        "**Para identificar as correlações existentes entre as variáveis de interesse, seguiremos dois passos:**\n",
        "\n",
        "1) Criação de uma matriz de correlação"
      ]
    },
    {
      "cell_type": "code",
      "metadata": {
        "id": "x2ayzBajqxyd",
        "colab_type": "code",
        "outputId": "5db3dc4c-0bbf-46a6-8486-fd5ddabde5b8",
        "colab": {
          "base_uri": "https://localhost:8080/",
          "height": 235
        }
      },
      "source": [
        "# criar uma matriz de correlação\n",
        "corr = df_clean[['price', 'minimum_nights', 'number_of_reviews', 'reviews_per_month', 'calculated_host_listings_count', 'availability_365']].corr()\n",
        "# mostrar a matriz de correlação\n",
        "display(corr)"
      ],
      "execution_count": 0,
      "outputs": [
        {
          "output_type": "display_data",
          "data": {
            "text/html": [
              "<div>\n",
              "<style scoped>\n",
              "    .dataframe tbody tr th:only-of-type {\n",
              "        vertical-align: middle;\n",
              "    }\n",
              "\n",
              "    .dataframe tbody tr th {\n",
              "        vertical-align: top;\n",
              "    }\n",
              "\n",
              "    .dataframe thead th {\n",
              "        text-align: right;\n",
              "    }\n",
              "</style>\n",
              "<table border=\"1\" class=\"dataframe\">\n",
              "  <thead>\n",
              "    <tr style=\"text-align: right;\">\n",
              "      <th></th>\n",
              "      <th>price</th>\n",
              "      <th>minimum_nights</th>\n",
              "      <th>number_of_reviews</th>\n",
              "      <th>reviews_per_month</th>\n",
              "      <th>calculated_host_listings_count</th>\n",
              "      <th>availability_365</th>\n",
              "    </tr>\n",
              "  </thead>\n",
              "  <tbody>\n",
              "    <tr>\n",
              "      <th>price</th>\n",
              "      <td>1.000000</td>\n",
              "      <td>-0.033734</td>\n",
              "      <td>-0.054104</td>\n",
              "      <td>-0.027120</td>\n",
              "      <td>-0.035529</td>\n",
              "      <td>0.051251</td>\n",
              "    </tr>\n",
              "    <tr>\n",
              "      <th>minimum_nights</th>\n",
              "      <td>-0.033734</td>\n",
              "      <td>1.000000</td>\n",
              "      <td>-0.097572</td>\n",
              "      <td>-0.139782</td>\n",
              "      <td>0.015704</td>\n",
              "      <td>0.052628</td>\n",
              "    </tr>\n",
              "    <tr>\n",
              "      <th>number_of_reviews</th>\n",
              "      <td>-0.054104</td>\n",
              "      <td>-0.097572</td>\n",
              "      <td>1.000000</td>\n",
              "      <td>0.411118</td>\n",
              "      <td>-0.057370</td>\n",
              "      <td>-0.019585</td>\n",
              "    </tr>\n",
              "    <tr>\n",
              "      <th>reviews_per_month</th>\n",
              "      <td>-0.027120</td>\n",
              "      <td>-0.139782</td>\n",
              "      <td>0.411118</td>\n",
              "      <td>1.000000</td>\n",
              "      <td>0.049950</td>\n",
              "      <td>0.038912</td>\n",
              "    </tr>\n",
              "    <tr>\n",
              "      <th>calculated_host_listings_count</th>\n",
              "      <td>-0.035529</td>\n",
              "      <td>0.015704</td>\n",
              "      <td>-0.057370</td>\n",
              "      <td>0.049950</td>\n",
              "      <td>1.000000</td>\n",
              "      <td>0.089567</td>\n",
              "    </tr>\n",
              "    <tr>\n",
              "      <th>availability_365</th>\n",
              "      <td>0.051251</td>\n",
              "      <td>0.052628</td>\n",
              "      <td>-0.019585</td>\n",
              "      <td>0.038912</td>\n",
              "      <td>0.089567</td>\n",
              "      <td>1.000000</td>\n",
              "    </tr>\n",
              "  </tbody>\n",
              "</table>\n",
              "</div>"
            ],
            "text/plain": [
              "                                   price  ...  availability_365\n",
              "price                           1.000000  ...          0.051251\n",
              "minimum_nights                 -0.033734  ...          0.052628\n",
              "number_of_reviews              -0.054104  ...         -0.019585\n",
              "reviews_per_month              -0.027120  ...          0.038912\n",
              "calculated_host_listings_count -0.035529  ...          0.089567\n",
              "availability_365                0.051251  ...          1.000000\n",
              "\n",
              "[6 rows x 6 columns]"
            ]
          },
          "metadata": {
            "tags": []
          }
        }
      ]
    },
    {
      "cell_type": "markdown",
      "metadata": {
        "id": "pg0ta_AIMhO6",
        "colab_type": "text"
      },
      "source": [
        "2) Geração de um mapa de calor *(heatmap)* a partir dessa matriz, usando a biblioteca `seaborn`"
      ]
    },
    {
      "cell_type": "code",
      "metadata": {
        "id": "91UujDr6ueqE",
        "colab_type": "code",
        "outputId": "530b21b9-8647-46ae-a498-ab2c8cf25c83",
        "colab": {
          "base_uri": "https://localhost:8080/",
          "height": 411
        }
      },
      "source": [
        "# plotar um heatmap a partir das correlações\n",
        "sns.heatmap(corr, cmap='RdBu', fmt='.2f', square=True, linecolor='white', annot=True);"
      ],
      "execution_count": 0,
      "outputs": [
        {
          "output_type": "display_data",
          "data": {
            "image/png": "[encoded data removed]",
            "text/plain": [
              "<Figure size 432x288 with 2 Axes>"
            ]
          },
          "metadata": {
            "tags": []
          }
        }
      ]
    },
    {
      "cell_type": "markdown",
      "metadata": {
        "id": "o_E3VMkIM_Pd",
        "colab_type": "text"
      },
      "source": [
        "---"
      ]
    },
    {
      "cell_type": "markdown",
      "metadata": {
        "id": "7b6RMWpuHKN-",
        "colab_type": "text"
      },
      "source": [
        "### **Q7. Qual o tipo de imóvel mais alugado, via Airbnb, na cidade de Ottawa?**\n",
        "\n",
        "A coluna da variável `room_type` indica o tipo de locação que está anunciada no Airbnb. Em Ottawa, o Airbnb apresenta as seguintes opções de hospedagem para aluguel: \n",
        "\n",
        "* *Entire home/apt*: apartamentos/casas inteiras \n",
        "* *Private room*: quarto particular \n",
        "* *Hotel room*: quarto de hotel \n",
        "* *Shared room*: quarto compartilhado\n",
        "\n",
        "\n",
        "Vamos contar a quantidade de ocorrências de cada tipo de aluguel, usando o método `value_counts()`."
      ]
    },
    {
      "cell_type": "code",
      "metadata": {
        "id": "ueLPNWvPHgfB",
        "colab_type": "code",
        "outputId": "549c4827-a290-4a08-e674-16d3539ca138",
        "colab": {
          "base_uri": "https://localhost:8080/",
          "height": 102
        }
      },
      "source": [
        "# mostrar a quantidade de cada tipo de imóvel disponível\n",
        "df_clean.room_type.value_counts()"
      ],
      "execution_count": 0,
      "outputs": [
        {
          "output_type": "execute_result",
          "data": {
            "text/plain": [
              "Entire home/apt    1262\n",
              "Private room       1050\n",
              "Hotel room           40\n",
              "Shared room          31\n",
              "Name: room_type, dtype: int64"
            ]
          },
          "metadata": {
            "tags": []
          },
          "execution_count": 52
        }
      ]
    },
    {
      "cell_type": "code",
      "metadata": {
        "id": "EvwoO-XAHhIm",
        "colab_type": "code",
        "outputId": "ee95f303-112e-4ea7-98f0-050e64fe3289",
        "colab": {
          "base_uri": "https://localhost:8080/",
          "height": 102
        }
      },
      "source": [
        "# mostrar a porcentagem de cada tipo de imóvel disponível\n",
        "df_clean.room_type.value_counts() / df_clean.shape[0]"
      ],
      "execution_count": 0,
      "outputs": [
        {
          "output_type": "execute_result",
          "data": {
            "text/plain": [
              "Entire home/apt    0.529585\n",
              "Private room       0.440621\n",
              "Hotel room         0.016786\n",
              "Shared room        0.013009\n",
              "Name: room_type, dtype: float64"
            ]
          },
          "metadata": {
            "tags": []
          },
          "execution_count": 53
        }
      ]
    },
    {
      "cell_type": "markdown",
      "metadata": {
        "id": "7n121it1PfSt",
        "colab_type": "text"
      },
      "source": [
        "*Resumo da análise:*\n",
        "\n",
        "* Apartamentos/casas inteiras: **52,9%**\n",
        "* Quarto particular: **44%**\n",
        "* Quarto de hotel: **1,6%**\n",
        "* Quarto compartilhado: **1,3%**"
      ]
    },
    {
      "cell_type": "markdown",
      "metadata": {
        "id": "t_idYqC9Qcrg",
        "colab_type": "text"
      },
      "source": [
        "---"
      ]
    },
    {
      "cell_type": "markdown",
      "metadata": {
        "id": "MFa5NbnLJMcd",
        "colab_type": "text"
      },
      "source": [
        "### **Q8. Qual a localidade mais cara em Ottawa para se alugar uma hospedagem via Airbnb?**\n",
        "\n",
        "Uma maneira de se verificar uma variável em função da outra é usando `groupby()`. No caso, queremos comparar os bairros (*neighbourhoods*) a partir do preço de locação."
      ]
    },
    {
      "cell_type": "code",
      "metadata": {
        "id": "MD_xa143JZpi",
        "colab_type": "code",
        "outputId": "d11befab-d6f1-4aed-d5ca-078d228155c6",
        "colab": {
          "base_uri": "https://localhost:8080/",
          "height": 221
        }
      },
      "source": [
        "# ver preços por bairros, na média\n",
        "df_clean.groupby(['neighbourhood']).price.mean().sort_values(ascending=False)[:10]"
      ],
      "execution_count": 0,
      "outputs": [
        {
          "output_type": "execute_result",
          "data": {
            "text/plain": [
              "neighbourhood\n",
              "West Carleton-March    162.234043\n",
              "Kitchissippi           121.732484\n",
              "Somerset               120.372483\n",
              "Capital                118.128049\n",
              "Rideau-Vanier          112.439732\n",
              "Rideau-Goulbourn       106.972222\n",
              "College                104.026316\n",
              "Rideau-Rockcliffe      101.619835\n",
              "Orleans                 93.837209\n",
              "Bay                     93.123288\n",
              "Name: price, dtype: float64"
            ]
          },
          "metadata": {
            "tags": []
          },
          "execution_count": 54
        }
      ]
    },
    {
      "cell_type": "code",
      "metadata": {
        "id": "UxVJqJ_3W59I",
        "colab_type": "code",
        "outputId": "f227786b-b528-4a37-f1cf-2a73bb9e4205",
        "colab": {
          "base_uri": "https://localhost:8080/",
          "height": 472
        }
      },
      "source": [
        "# plotar os imóveis pela latitude-longitude\n",
        "df_clean.plot(kind=\"scatter\", x='longitude', y='latitude', alpha=0.4, c=df_clean['price'], s=8, cmap=plt.get_cmap('jet'), figsize=(12,8));"
      ],
      "execution_count": 0,
      "outputs": [
        {
          "output_type": "display_data",
          "data": {
            "image/png": "[encoded data removed]",
            "text/plain": [
              "<Figure size 864x576 with 2 Axes>"
            ]
          },
          "metadata": {
            "tags": []
          }
        }
      ]
    },
    {
      "cell_type": "markdown",
      "metadata": {
        "id": "Cib_yGIqQ9N7",
        "colab_type": "text"
      },
      "source": [
        "*Resumo da análise:*\n",
        "\n",
        "* O bairro (*ward*) em Ottawa com a média mais cara de aluguel via Airbnb é **West Carleton-March**, com o valor médio de hospedagem de **162.23 CAD**."
      ]
    },
    {
      "cell_type": "markdown",
      "metadata": {
        "id": "jEhcDbLVRdve",
        "colab_type": "text"
      },
      "source": [
        "---"
      ]
    },
    {
      "cell_type": "markdown",
      "metadata": {
        "id": "vTneAMRUYvr1",
        "colab_type": "text"
      },
      "source": [
        "### **Q9. Qual é a média do mínimo de noites para aluguel (minimum_nights)?**"
      ]
    },
    {
      "cell_type": "code",
      "metadata": {
        "id": "_VzNhrEgY82N",
        "colab_type": "code",
        "outputId": "d281bbb2-ff36-4d8a-d8ec-c0693c495b6f",
        "colab": {
          "base_uri": "https://localhost:8080/",
          "height": 34
        }
      },
      "source": [
        "# ver a média da coluna `minimum_nights``\n",
        "df_clean.minimum_nights.mean()"
      ],
      "execution_count": 0,
      "outputs": [
        {
          "output_type": "execute_result",
          "data": {
            "text/plain": [
              "4.636592530423836"
            ]
          },
          "metadata": {
            "tags": []
          },
          "execution_count": 58
        }
      ]
    },
    {
      "cell_type": "code",
      "metadata": {
        "id": "zHyXGLQu1lYm",
        "colab_type": "code",
        "outputId": "77d83678-1047-4b2c-915a-a4f8ddcc890d",
        "colab": {
          "base_uri": "https://localhost:8080/",
          "height": 34
        }
      },
      "source": [
        "round(df_clean.minimum_nights.mean(), 2)"
      ],
      "execution_count": 0,
      "outputs": [
        {
          "output_type": "execute_result",
          "data": {
            "text/plain": [
              "4.64"
            ]
          },
          "metadata": {
            "tags": []
          },
          "execution_count": 9
        }
      ]
    },
    {
      "cell_type": "markdown",
      "metadata": {
        "id": "8jAE7i4-RICt",
        "colab_type": "text"
      },
      "source": [
        "*Resumo da análise:*\n",
        "\n",
        "Média do mínimo de noites para aluguel de hospedagem, via Airbnb, em Ottawa: **4,64 dias**"
      ]
    },
    {
      "cell_type": "markdown",
      "metadata": {
        "id": "UcS0OrwZRhMM",
        "colab_type": "text"
      },
      "source": [
        "---"
      ]
    },
    {
      "cell_type": "markdown",
      "metadata": {
        "id": "hTa2jWBOZlJo",
        "colab_type": "text"
      },
      "source": [
        "\n",
        "\n",
        "\n",
        "<img src=\"https://gd-canada.sfo2.digitaloceanspaces.com/2016/05/Rideau-Canal-Ottawa.jpg\" width=\"640px\">\n",
        "\n",
        "\n"
      ]
    },
    {
      "cell_type": "markdown",
      "metadata": {
        "id": "GkvAg623RjoR",
        "colab_type": "text"
      },
      "source": [
        "## Conclusões\n"
      ]
    },
    {
      "cell_type": "markdown",
      "metadata": {
        "id": "rbZ3Hsy9Ypw8",
        "colab_type": "text"
      },
      "source": [
        "* Esta foi uma análise superficial sobre a base de dados do Airbnb e, mesmo com apenas 16 váriaveis, foi possível a detecção de ***outliers*** que causaram distorções, especialmente nas variáveis sobre **preço**, **número mínimo de noites** e **número de reviews**. \n",
        "\n",
        "* Devido à considerável discrepância de valores provocados pelos *outliers*, foi necessária uma extensiva limpeza dos dados e eliminação de um percentual de entradas para que a análise fosse capaz de apresentar valores e indicadores mais precisos.\n",
        "\n",
        "* Esta análise teve o objetivo de ser apenas um estudo inicial da base de dados do Airbnb sobre a cidade de Ottawa. Para um estudo mais aprofundado da mesma cidade, recomenda-se a utilização do conjunto de dados completos, contendo 106 variáveis.  "
      ]
    }
  ]
}